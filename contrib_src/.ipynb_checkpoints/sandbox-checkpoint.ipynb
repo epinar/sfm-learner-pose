{
 "cells": [
  {
   "cell_type": "markdown",
   "metadata": {},
   "source": [
    "This notebook demonstrates how use the model api to run predictions and get information from the model. You can use it as basis to write your own experiements using the model in this container.\n",
    "\n",
    "To start, import _modelapi.model_, which will give us access to the api of the model in this container."
   ]
  },
  {
   "cell_type": "code",
   "execution_count": 3,
   "metadata": {},
   "outputs": [
    {
     "ename": "ModuleNotFoundError",
     "evalue": "No module named 'modelhubapi'",
     "output_type": "error",
     "traceback": [
      "\u001b[0;31m---------------------------------------------------------------------------\u001b[0m",
      "\u001b[0;31mModuleNotFoundError\u001b[0m                       Traceback (most recent call last)",
      "\u001b[0;32m<ipython-input-3-e8678c053191>\u001b[0m in \u001b[0;36m<module>\u001b[0;34m()\u001b[0m\n\u001b[0;32m----> 1\u001b[0;31m \u001b[0;32mfrom\u001b[0m \u001b[0mmodelapi\u001b[0m \u001b[0;32mimport\u001b[0m \u001b[0mmodel\u001b[0m\u001b[0;34m\u001b[0m\u001b[0m\n\u001b[0m",
      "\u001b[0;32m~/Documents/Projects/ModelHub/sfm-learner-pose/contrib_src/modelapi.py\u001b[0m in \u001b[0;36m<module>\u001b[0;34m()\u001b[0m\n\u001b[1;32m      1\u001b[0m \u001b[0;32mimport\u001b[0m \u001b[0mos\u001b[0m\u001b[0;34m\u001b[0m\u001b[0m\n\u001b[0;32m----> 2\u001b[0;31m \u001b[0;32mfrom\u001b[0m \u001b[0mmodelhubapi\u001b[0m \u001b[0;32mimport\u001b[0m \u001b[0mModelHubAPI\u001b[0m\u001b[0;34m\u001b[0m\u001b[0m\n\u001b[0m\u001b[1;32m      3\u001b[0m \u001b[0;32mfrom\u001b[0m \u001b[0minference\u001b[0m \u001b[0;32mimport\u001b[0m \u001b[0mModel\u001b[0m\u001b[0;34m\u001b[0m\u001b[0m\n\u001b[1;32m      4\u001b[0m \u001b[0;34m\u001b[0m\u001b[0m\n\u001b[1;32m      5\u001b[0m \u001b[0mmodel\u001b[0m \u001b[0;34m=\u001b[0m \u001b[0mModelHubAPI\u001b[0m\u001b[0;34m(\u001b[0m\u001b[0mModel\u001b[0m\u001b[0;34m(\u001b[0m\u001b[0;34m)\u001b[0m\u001b[0;34m,\u001b[0m \u001b[0mos\u001b[0m\u001b[0;34m.\u001b[0m\u001b[0mpath\u001b[0m\u001b[0;34m.\u001b[0m\u001b[0mdirname\u001b[0m\u001b[0;34m(\u001b[0m\u001b[0mos\u001b[0m\u001b[0;34m.\u001b[0m\u001b[0mpath\u001b[0m\u001b[0;34m.\u001b[0m\u001b[0mrealpath\u001b[0m\u001b[0;34m(\u001b[0m\u001b[0m__file__\u001b[0m\u001b[0;34m)\u001b[0m\u001b[0;34m)\u001b[0m\u001b[0;34m)\u001b[0m\u001b[0;34m\u001b[0m\u001b[0m\n",
      "\u001b[0;31mModuleNotFoundError\u001b[0m: No module named 'modelhubapi'"
     ]
    }
   ],
   "source": [
    "from modelapi import model"
   ]
  },
  {
   "cell_type": "markdown",
   "metadata": {},
   "source": [
    "Ask the model for a list of sample data, then run a prediction on the first of the sample dataset, and then display the prediction result output.\n",
    "\n",
    "If the model does not provide any sample data, print an error message (this part also shows how to read meta info - like the model's name - from the models config)."
   ]
  },
  {
   "cell_type": "code",
   "execution_count": null,
   "metadata": {},
   "outputs": [],
   "source": [
    "samples = model.get_samples()\n",
    "if len(samples[\"files\"]) > 0:\n",
    "    inputFile = samples[\"folder\"] + \"/\" + samples[\"files\"][0]\n",
    "    result = model.predict(inputFile)\n",
    "    for i, output in enumerate(result[\"output\"]):\n",
    "        print(\"\\n\" + result[\"model\"][\"name\"] + \" Output \" + str(i) + \":\")\n",
    "        print(\"  Type:  \" + output[\"type\"])\n",
    "        print(\"  Name:  \" + output[\"name\"])\n",
    "        print(\"  Shape: \" + str(output[\"shape\"]))\n",
    "        print(\"  Prediction:\")\n",
    "        if output[\"type\"] in [\"mask_image\", \"image\"]:\n",
    "            # if output seems to be an image, try displaying it nicely with PIL\n",
    "            try:\n",
    "                import PIL\n",
    "                image = PIL.Image.fromarray(output[\"prediction\"])\n",
    "                display(image)\n",
    "            except:\n",
    "                display(output[\"prediction\"])\n",
    "        else:\n",
    "            display(output[\"prediction\"])\n",
    "else:\n",
    "    model_name = model.get_config()[\"meta\"][\"name\"]\n",
    "    print(model_name + \" does not provide any sample data, please try your own data.\")"
   ]
  },
  {
   "cell_type": "code",
   "execution_count": null,
   "metadata": {},
   "outputs": [],
   "source": []
  }
 ],
 "metadata": {
  "kernelspec": {
   "display_name": "Python 2",
   "language": "python",
   "name": "python2"
  },
  "language_info": {
   "codemirror_mode": {
    "name": "ipython",
    "version": 3
   },
   "file_extension": ".py",
   "mimetype": "text/x-python",
   "name": "python",
   "nbconvert_exporter": "python",
   "pygments_lexer": "ipython3",
   "version": "3.6.5"
  }
 },
 "nbformat": 4,
 "nbformat_minor": 2
}
